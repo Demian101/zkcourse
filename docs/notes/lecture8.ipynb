{
 "cells": [
  {
   "cell_type": "code",
   "execution_count": 3,
   "metadata": {},
   "outputs": [
    {
     "name": "stdout",
     "output_type": "stream",
     "text": [
      "Elliptic Curve defined by y^2 = x^3 + 3 over Finite Field of size 101\n",
      "100\n"
     ]
    }
   ],
   "source": [
    "K1=GF(101)\n",
    "E1=EllipticCurve(K1,[0,0,0,0,3])\n",
    "# https://doc.sagemath.org/html/en/reference/arithmetic_curves/sage/schemes/elliptic_curves/constructor.html\n",
    "print (E1)\n",
    "print (K1(-1))\n"
   ]
  },
  {
   "cell_type": "markdown",
   "metadata": {},
   "source": [
    "def double(inx, iny, md):\n",
    "    x=var('x')\n",
    "    y=var('y')\n",
    "    m(x,y) =  (3 * x^2) / (2* y)\n",
    "    dd=var('dd')\n",
    "    dp(x,y)=(m^2 - 2*x,m*(3*x-m^2)-y)\n",
    "    print(\"$\"+latex (m)+\"$\", latex(dp))\n",
    "    print(dp(inx,iny,md))\n",
    "    #return (mod(m^2 - 2*x,md), m* (2*x-m^2) - y)\n",
    "    \n",
    "print(double(1,2,101))\n",
    "print(\"## hello\")"
   ]
  },
  {
   "attachments": {},
   "cell_type": "markdown",
   "metadata": {},
   "source": [
    "$ \\left( x, y \\right) \\ {\\mapsto} \\ \\frac{3 \\, x^{2}}{2 \\, y} $ \n",
    "\n",
    "\n",
    "$\\left( x, y \\right) \\ {\\mapsto} \\ \\left(\\frac{9 \\, x^{4}}{4 \\, y^{2}} - 2 \\, x,\\,-\\frac{9 \\, {\\left(\\frac{3 \\, x^{4}}{y^{2}} - 4 \\, x\\right)} x^{2}}{8 \\, y} - y\\right)$"
   ]
  },
  {
   "cell_type": "code",
   "execution_count": 5,
   "metadata": {},
   "outputs": [
    {
     "name": "stdout",
     "output_type": "stream",
     "text": [
      "(1 : 2 : 1)\n",
      "(68 : 74 : 1)\n",
      "(26 : 45 : 1)\n",
      "(65 : 98 : 1)\n",
      "(12 : 32 : 1)\n",
      "(32 : 42 : 1)\n",
      "(91 : 35 : 1)\n",
      "(18 : 49 : 1)\n",
      "(18 : 52 : 1)\n",
      "(91 : 66 : 1)\n",
      "(32 : 59 : 1)\n",
      "(12 : 69 : 1)\n",
      "(65 : 3 : 1)\n",
      "(26 : 56 : 1)\n",
      "(68 : 27 : 1)\n",
      "(1 : 99 : 1)\n",
      "(0 : 1 : 0)\n"
     ]
    }
   ],
   "source": [
    "G1=E1(1,2) # Point (1,2) on G\n",
    "# https://doc.sagemath.org/html/en/reference/arithmetic_curves/sage/schemes/elliptic_curves/ell_finite_field.html\n",
    "for i in range(1,18):\n",
    "    print(i*G1)"
   ]
  },
  {
   "cell_type": "code",
   "execution_count": 6,
   "metadata": {},
   "outputs": [
    {
     "data": {
      "text/plain": [
       "0"
      ]
     },
     "execution_count": 6,
     "metadata": {},
     "output_type": "execute_result"
    }
   ],
   "source": [
    "mod(101^2-1,17)"
   ]
  },
  {
   "cell_type": "code",
   "execution_count": 8,
   "metadata": {},
   "outputs": [
    {
     "data": {
      "text/plain": [
       "True"
      ]
     },
     "execution_count": 8,
     "metadata": {},
     "output_type": "execute_result"
    }
   ],
   "source": [
    "# x^3+3 = y^2 mod 101\n",
    "# (x, y) = (36, 31u)\n",
    "mod(36^3,101)+3 == mod(31^2,101)*(-2)"
   ]
  },
  {
   "cell_type": "code",
   "execution_count": 21,
   "metadata": {},
   "outputs": [
    {
     "name": "stdout",
     "output_type": "stream",
     "text": [
      "(36 : 31*u : 1)\n",
      "(90 : 82*u : 1)\n",
      "(10 : 16*u : 1)\n",
      "(63 : 35*u : 1)\n",
      "(74 : 12*u : 1)\n",
      "(41 : 22*u : 1)\n",
      "(66 : 23*u : 1)\n",
      "(2 : 34*u : 1)\n",
      "(2 : 67*u : 1)\n",
      "(66 : 78*u : 1)\n",
      "(41 : 79*u : 1)\n",
      "(74 : 89*u : 1)\n",
      "(63 : 66*u : 1)\n",
      "(10 : 85*u : 1)\n",
      "(90 : 19*u : 1)\n",
      "(36 : 70*u : 1)\n",
      "(0 : 1 : 0)\n"
     ]
    }
   ],
   "source": [
    "del(x)\n",
    "x=var(\"x\")\n",
    "K2.<u> = GF(101^2, modulus=x^2 + 2, name='x')\n",
    "\n",
    "E2=EllipticCurve(K2,[0,0,0,0,3])\n",
    "G2=E2(36,31*u)\n",
    "2*G2\n",
    "\n",
    "for i in range(1,18):\n",
    "    print(i*G2)"
   ]
  },
  {
   "cell_type": "code",
   "execution_count": 24,
   "metadata": {},
   "outputs": [
    {
     "name": "stdout",
     "output_type": "stream",
     "text": [
      "(1 : 2 : 1)\n",
      "(68 : 74 : 1)\n",
      "(65 : 98 : 1)\n",
      "(18 : 49 : 1)\n",
      "(1 : 99 : 1)\n",
      "(68 : 27 : 1)\n",
      "(65 : 3 : 1)\n",
      "(36 : 31*u : 1)\n",
      "(90 : 82*u : 1)\n"
     ]
    }
   ],
   "source": [
    "s=2\n",
    "n=4\n",
    "\n",
    "for i in range(0,n+3):\n",
    "    print(s^i * G1)\n",
    "\n",
    "for i in range(0,2):\n",
    "    print(s^i * G2)\n"
   ]
  },
  {
   "cell_type": "code",
   "execution_count": 26,
   "metadata": {},
   "outputs": [
    {
     "data": {
      "text/plain": [
       "1"
      ]
     },
     "execution_count": 26,
     "metadata": {},
     "output_type": "execute_result"
    }
   ],
   "source": [
    "mod(13*4,17)"
   ]
  },
  {
   "cell_type": "code",
   "execution_count": null,
   "metadata": {},
   "outputs": [],
   "source": []
  }
 ],
 "metadata": {
  "kernelspec": {
   "display_name": "SageMath 9.7",
   "language": "sage",
   "name": "sagemath"
  },
  "language_info": {
   "codemirror_mode": {
    "name": "ipython",
    "version": 3
   },
   "file_extension": ".py",
   "mimetype": "text/x-python",
   "name": "python",
   "nbconvert_exporter": "python",
   "pygments_lexer": "ipython3",
   "version": "3.10.5"
  },
  "orig_nbformat": 4
 },
 "nbformat": 4,
 "nbformat_minor": 2
}
